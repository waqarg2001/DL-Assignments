{
  "nbformat": 4,
  "nbformat_minor": 0,
  "metadata": {
    "colab": {
      "name": "cement strength prediction.ipynb",
      "provenance": [],
      "collapsed_sections": []
    },
    "kernelspec": {
      "name": "python3",
      "display_name": "Python 3"
    },
    "accelerator": "TPU"
  },
  "cells": [
    {
      "cell_type": "code",
      "metadata": {
        "id": "P1KKN0UI0b1a"
      },
      "source": [
        "import numpy as np\n",
        "import pandas as pd\n",
        "from tensorflow.keras import models,layers\n"
      ],
      "execution_count": null,
      "outputs": []
    },
    {
      "cell_type": "code",
      "metadata": {
        "colab": {
          "base_uri": "https://localhost:8080/",
          "height": 470
        },
        "id": "vhacFkdO1TdJ",
        "outputId": "40047f95-0678-4b89-de99-9f6e0baa5057"
      },
      "source": [
        "data=pd.read_csv('/content/compresive_strength_concrete.csv')\n",
        "data.loc[43]\n",
        "data.sample(frac=1)"
      ],
      "execution_count": null,
      "outputs": [
        {
          "output_type": "execute_result",
          "data": {
            "text/html": [
              "<div>\n",
              "<style scoped>\n",
              "    .dataframe tbody tr th:only-of-type {\n",
              "        vertical-align: middle;\n",
              "    }\n",
              "\n",
              "    .dataframe tbody tr th {\n",
              "        vertical-align: top;\n",
              "    }\n",
              "\n",
              "    .dataframe thead th {\n",
              "        text-align: right;\n",
              "    }\n",
              "</style>\n",
              "<table border=\"1\" class=\"dataframe\">\n",
              "  <thead>\n",
              "    <tr style=\"text-align: right;\">\n",
              "      <th></th>\n",
              "      <th>Cement (component 1)(kg in a m^3 mixture)</th>\n",
              "      <th>Blast Furnace Slag (component 2)(kg in a m^3 mixture)</th>\n",
              "      <th>Fly Ash (component 3)(kg in a m^3 mixture)</th>\n",
              "      <th>Water  (component 4)(kg in a m^3 mixture)</th>\n",
              "      <th>Superplasticizer (component 5)(kg in a m^3 mixture)</th>\n",
              "      <th>Coarse Aggregate  (component 6)(kg in a m^3 mixture)</th>\n",
              "      <th>Fine Aggregate (component 7)(kg in a m^3 mixture)</th>\n",
              "      <th>Age (day)</th>\n",
              "      <th>Concrete compressive strength(MPa, megapascals)</th>\n",
              "    </tr>\n",
              "  </thead>\n",
              "  <tbody>\n",
              "    <tr>\n",
              "      <th>188</th>\n",
              "      <td>222.4</td>\n",
              "      <td>0.0</td>\n",
              "      <td>96.7</td>\n",
              "      <td>189.3</td>\n",
              "      <td>4.5</td>\n",
              "      <td>967.1</td>\n",
              "      <td>870.3</td>\n",
              "      <td>100</td>\n",
              "      <td>40.71</td>\n",
              "    </tr>\n",
              "    <tr>\n",
              "      <th>400</th>\n",
              "      <td>250.0</td>\n",
              "      <td>180.0</td>\n",
              "      <td>95.0</td>\n",
              "      <td>159.0</td>\n",
              "      <td>9.5</td>\n",
              "      <td>860.0</td>\n",
              "      <td>800.0</td>\n",
              "      <td>28</td>\n",
              "      <td>67.87</td>\n",
              "    </tr>\n",
              "    <tr>\n",
              "      <th>282</th>\n",
              "      <td>251.4</td>\n",
              "      <td>0.0</td>\n",
              "      <td>118.3</td>\n",
              "      <td>188.5</td>\n",
              "      <td>6.4</td>\n",
              "      <td>1028.4</td>\n",
              "      <td>757.7</td>\n",
              "      <td>56</td>\n",
              "      <td>36.64</td>\n",
              "    </tr>\n",
              "    <tr>\n",
              "      <th>14</th>\n",
              "      <td>304.0</td>\n",
              "      <td>76.0</td>\n",
              "      <td>0.0</td>\n",
              "      <td>228.0</td>\n",
              "      <td>0.0</td>\n",
              "      <td>932.0</td>\n",
              "      <td>670.0</td>\n",
              "      <td>28</td>\n",
              "      <td>47.81</td>\n",
              "    </tr>\n",
              "    <tr>\n",
              "      <th>579</th>\n",
              "      <td>203.5</td>\n",
              "      <td>135.7</td>\n",
              "      <td>0.0</td>\n",
              "      <td>185.7</td>\n",
              "      <td>0.0</td>\n",
              "      <td>1076.2</td>\n",
              "      <td>759.3</td>\n",
              "      <td>28</td>\n",
              "      <td>22.63</td>\n",
              "    </tr>\n",
              "    <tr>\n",
              "      <th>...</th>\n",
              "      <td>...</td>\n",
              "      <td>...</td>\n",
              "      <td>...</td>\n",
              "      <td>...</td>\n",
              "      <td>...</td>\n",
              "      <td>...</td>\n",
              "      <td>...</td>\n",
              "      <td>...</td>\n",
              "      <td>...</td>\n",
              "    </tr>\n",
              "    <tr>\n",
              "      <th>459</th>\n",
              "      <td>165.0</td>\n",
              "      <td>128.5</td>\n",
              "      <td>132.1</td>\n",
              "      <td>175.1</td>\n",
              "      <td>8.1</td>\n",
              "      <td>1005.8</td>\n",
              "      <td>746.6</td>\n",
              "      <td>100</td>\n",
              "      <td>55.02</td>\n",
              "    </tr>\n",
              "    <tr>\n",
              "      <th>313</th>\n",
              "      <td>295.7</td>\n",
              "      <td>0.0</td>\n",
              "      <td>95.6</td>\n",
              "      <td>171.5</td>\n",
              "      <td>8.9</td>\n",
              "      <td>955.1</td>\n",
              "      <td>859.2</td>\n",
              "      <td>100</td>\n",
              "      <td>52.04</td>\n",
              "    </tr>\n",
              "    <tr>\n",
              "      <th>7</th>\n",
              "      <td>380.0</td>\n",
              "      <td>95.0</td>\n",
              "      <td>0.0</td>\n",
              "      <td>228.0</td>\n",
              "      <td>0.0</td>\n",
              "      <td>932.0</td>\n",
              "      <td>594.0</td>\n",
              "      <td>28</td>\n",
              "      <td>36.45</td>\n",
              "    </tr>\n",
              "    <tr>\n",
              "      <th>452</th>\n",
              "      <td>173.8</td>\n",
              "      <td>93.4</td>\n",
              "      <td>159.9</td>\n",
              "      <td>172.3</td>\n",
              "      <td>9.7</td>\n",
              "      <td>1007.2</td>\n",
              "      <td>746.6</td>\n",
              "      <td>56</td>\n",
              "      <td>48.99</td>\n",
              "    </tr>\n",
              "    <tr>\n",
              "      <th>195</th>\n",
              "      <td>194.7</td>\n",
              "      <td>0.0</td>\n",
              "      <td>100.5</td>\n",
              "      <td>165.6</td>\n",
              "      <td>7.5</td>\n",
              "      <td>1006.4</td>\n",
              "      <td>905.9</td>\n",
              "      <td>14</td>\n",
              "      <td>24.99</td>\n",
              "    </tr>\n",
              "  </tbody>\n",
              "</table>\n",
              "<p>1030 rows × 9 columns</p>\n",
              "</div>"
            ],
            "text/plain": [
              "     Cement (component 1)(kg in a m^3 mixture)  ...  Concrete compressive strength(MPa, megapascals) \n",
              "188                                      222.4  ...                                             40.71\n",
              "400                                      250.0  ...                                             67.87\n",
              "282                                      251.4  ...                                             36.64\n",
              "14                                       304.0  ...                                             47.81\n",
              "579                                      203.5  ...                                             22.63\n",
              "..                                         ...  ...                                               ...\n",
              "459                                      165.0  ...                                             55.02\n",
              "313                                      295.7  ...                                             52.04\n",
              "7                                        380.0  ...                                             36.45\n",
              "452                                      173.8  ...                                             48.99\n",
              "195                                      194.7  ...                                             24.99\n",
              "\n",
              "[1030 rows x 9 columns]"
            ]
          },
          "metadata": {
            "tags": []
          },
          "execution_count": 213
        }
      ]
    },
    {
      "cell_type": "code",
      "metadata": {
        "colab": {
          "base_uri": "https://localhost:8080/"
        },
        "id": "vatOZo5M1arA",
        "outputId": "3388e51c-c5e7-4ebf-a83a-ddb4347ba911"
      },
      "source": [
        "data.isna().sum()"
      ],
      "execution_count": null,
      "outputs": [
        {
          "output_type": "execute_result",
          "data": {
            "text/plain": [
              "Cement (component 1)(kg in a m^3 mixture)                0\n",
              "Blast Furnace Slag (component 2)(kg in a m^3 mixture)    0\n",
              "Fly Ash (component 3)(kg in a m^3 mixture)               0\n",
              "Water  (component 4)(kg in a m^3 mixture)                0\n",
              "Superplasticizer (component 5)(kg in a m^3 mixture)      0\n",
              "Coarse Aggregate  (component 6)(kg in a m^3 mixture)     0\n",
              "Fine Aggregate (component 7)(kg in a m^3 mixture)        0\n",
              "Age (day)                                                0\n",
              "Concrete compressive strength(MPa, megapascals)          0\n",
              "dtype: int64"
            ]
          },
          "metadata": {
            "tags": []
          },
          "execution_count": 214
        }
      ]
    },
    {
      "cell_type": "code",
      "metadata": {
        "colab": {
          "base_uri": "https://localhost:8080/"
        },
        "id": "VVxgYDBk2w0r",
        "outputId": "0f319505-2157-406d-855e-fb5655c5d1b4"
      },
      "source": [
        "train_data=data.iloc[:516]\n",
        "train_data.drop('Concrete compressive strength(MPa, megapascals) ',axis=1,inplace=True)\n",
        "mean=train_data.mean(axis=0)\n",
        "std=train_data.std(axis=0)\n",
        "train_data-=mean\n",
        "train_data/=std\n",
        "train_targets=data['Concrete compressive strength(MPa, megapascals) '].iloc[:516]\n"
      ],
      "execution_count": null,
      "outputs": [
        {
          "output_type": "stream",
          "text": [
            "/usr/local/lib/python3.7/dist-packages/pandas/core/frame.py:4174: SettingWithCopyWarning: \n",
            "A value is trying to be set on a copy of a slice from a DataFrame\n",
            "\n",
            "See the caveats in the documentation: https://pandas.pydata.org/pandas-docs/stable/user_guide/indexing.html#returning-a-view-versus-a-copy\n",
            "  errors=errors,\n"
          ],
          "name": "stderr"
        }
      ]
    },
    {
      "cell_type": "code",
      "metadata": {
        "colab": {
          "base_uri": "https://localhost:8080/"
        },
        "id": "tSVT4qbR7X6A",
        "outputId": "107d33e2-a571-4138-b86c-2f36f02dd5e7"
      },
      "source": [
        "test_data=data.iloc[516:826]\n",
        "test_data.drop('Concrete compressive strength(MPa, megapascals) ',axis=1,inplace=True)\n",
        "test_data-=mean\n",
        "test_data/=std\n",
        "test_targets=data['Concrete compressive strength(MPa, megapascals) '].iloc[516:826]"
      ],
      "execution_count": null,
      "outputs": [
        {
          "output_type": "stream",
          "text": [
            "/usr/local/lib/python3.7/dist-packages/pandas/core/frame.py:4174: SettingWithCopyWarning: \n",
            "A value is trying to be set on a copy of a slice from a DataFrame\n",
            "\n",
            "See the caveats in the documentation: https://pandas.pydata.org/pandas-docs/stable/user_guide/indexing.html#returning-a-view-versus-a-copy\n",
            "  errors=errors,\n"
          ],
          "name": "stderr"
        }
      ]
    },
    {
      "cell_type": "code",
      "metadata": {
        "colab": {
          "base_uri": "https://localhost:8080/"
        },
        "id": "NOclQcDc8BLe",
        "outputId": "732e152f-d9d0-4352-c26d-c7296e721f7f"
      },
      "source": [
        "val_data=data.iloc[826:]\n",
        "val_data.drop('Concrete compressive strength(MPa, megapascals) ',axis=1,inplace=True)\n",
        "val_data-=mean\n",
        "val_data/=std\n",
        "val_targets=data['Concrete compressive strength(MPa, megapascals) '].iloc[826:]"
      ],
      "execution_count": null,
      "outputs": [
        {
          "output_type": "stream",
          "text": [
            "/usr/local/lib/python3.7/dist-packages/pandas/core/frame.py:4174: SettingWithCopyWarning: \n",
            "A value is trying to be set on a copy of a slice from a DataFrame\n",
            "\n",
            "See the caveats in the documentation: https://pandas.pydata.org/pandas-docs/stable/user_guide/indexing.html#returning-a-view-versus-a-copy\n",
            "  errors=errors,\n"
          ],
          "name": "stderr"
        }
      ]
    },
    {
      "cell_type": "code",
      "metadata": {
        "id": "A_n3LkeP8agp"
      },
      "source": [
        "model=models.Sequential()\n",
        "model.add(layers.Dropout(0.1))\n",
        "model.add(layers.Dense(100,activation='tanh',input_shape=(train_data.iloc[1].shape)))\n",
        "model.add(layers.Dropout(0.9))\n",
        "model.add(layers.Dense(5,activation='tanh'))\n",
        "model.add(layers.Dropout(0.2))\n",
        "#model.add(layers.Dense(3,activation='tanh'))\n",
        "#model.add(layers.Dropout(0.1))\n",
        "model.add(layers.Dense(1))\n",
        "model.compile(optimizer='rmsprop',loss='mse',metrics=['mae'])\n",
        "\n"
      ],
      "execution_count": null,
      "outputs": []
    },
    {
      "cell_type": "code",
      "metadata": {
        "colab": {
          "base_uri": "https://localhost:8080/"
        },
        "id": "Kwg9iLyVLPN_",
        "outputId": "e18eae50-9776-48cd-9a14-a15193f0d097"
      },
      "source": [
        "model.fit(train_data,train_targets,epochs=16,batch_size=1,validation_data=(val_data,val_targets))"
      ],
      "execution_count": null,
      "outputs": [
        {
          "output_type": "stream",
          "text": [
            "Epoch 1/16\n",
            "516/516 [==============================] - 1s 2ms/step - loss: 2067.5373 - mae: 42.4034 - val_loss: 1093.9072 - val_mae: 30.6595\n",
            "Epoch 2/16\n",
            "516/516 [==============================] - 1s 1ms/step - loss: 1961.4809 - mae: 41.1417 - val_loss: 955.6707 - val_mae: 28.3135\n",
            "Epoch 3/16\n",
            "516/516 [==============================] - 1s 1ms/step - loss: 1642.9610 - mae: 36.7357 - val_loss: 815.3620 - val_mae: 25.7283\n",
            "Epoch 4/16\n",
            "516/516 [==============================] - 1s 1ms/step - loss: 1566.1612 - mae: 35.6227 - val_loss: 695.0506 - val_mae: 23.2966\n",
            "Epoch 5/16\n",
            "516/516 [==============================] - 1s 1ms/step - loss: 1333.3538 - mae: 32.3018 - val_loss: 589.0757 - val_mae: 21.0161\n",
            "Epoch 6/16\n",
            "516/516 [==============================] - 1s 1ms/step - loss: 1171.8159 - mae: 29.6464 - val_loss: 496.5822 - val_mae: 18.9475\n",
            "Epoch 7/16\n",
            "516/516 [==============================] - 1s 1ms/step - loss: 1000.6333 - mae: 27.3342 - val_loss: 416.5403 - val_mae: 17.1202\n",
            "Epoch 8/16\n",
            "516/516 [==============================] - 1s 1ms/step - loss: 912.1036 - mae: 25.9502 - val_loss: 349.2122 - val_mae: 15.5289\n",
            "Epoch 9/16\n",
            "516/516 [==============================] - 1s 1ms/step - loss: 829.1828 - mae: 24.4613 - val_loss: 293.0462 - val_mae: 14.1184\n",
            "Epoch 10/16\n",
            "516/516 [==============================] - 1s 1ms/step - loss: 714.6870 - mae: 22.3465 - val_loss: 248.5382 - val_mae: 12.8178\n",
            "Epoch 11/16\n",
            "516/516 [==============================] - 1s 1ms/step - loss: 620.8440 - mae: 20.1611 - val_loss: 214.2952 - val_mae: 11.7773\n",
            "Epoch 12/16\n",
            "516/516 [==============================] - 1s 1ms/step - loss: 556.3311 - mae: 19.3249 - val_loss: 189.2449 - val_mae: 10.9947\n",
            "Epoch 13/16\n",
            "516/516 [==============================] - 1s 1ms/step - loss: 485.5988 - mae: 17.8365 - val_loss: 172.2511 - val_mae: 10.4429\n",
            "Epoch 14/16\n",
            "516/516 [==============================] - 1s 1ms/step - loss: 492.4783 - mae: 17.5342 - val_loss: 161.5463 - val_mae: 10.0540\n",
            "Epoch 15/16\n",
            "516/516 [==============================] - 1s 1ms/step - loss: 450.8212 - mae: 17.2001 - val_loss: 155.5282 - val_mae: 9.8146\n",
            "Epoch 16/16\n",
            "516/516 [==============================] - 1s 1ms/step - loss: 424.9119 - mae: 16.5111 - val_loss: 153.3906 - val_mae: 9.6960\n"
          ],
          "name": "stdout"
        },
        {
          "output_type": "execute_result",
          "data": {
            "text/plain": [
              "<tensorflow.python.keras.callbacks.History at 0x7febb9432f10>"
            ]
          },
          "metadata": {
            "tags": []
          },
          "execution_count": 228
        }
      ]
    },
    {
      "cell_type": "code",
      "metadata": {
        "colab": {
          "base_uri": "https://localhost:8080/"
        },
        "id": "5Bj9gv3G9di3",
        "outputId": "a75c894a-9dae-4050-e1bb-4989aed7afcf"
      },
      "source": [
        "model.evaluate(test_data,test_targets)"
      ],
      "execution_count": null,
      "outputs": [
        {
          "output_type": "stream",
          "text": [
            "10/10 [==============================] - 0s 2ms/step - loss: 233.6676 - mae: 12.6171\n"
          ],
          "name": "stdout"
        },
        {
          "output_type": "execute_result",
          "data": {
            "text/plain": [
              "[233.66761779785156, 12.617072105407715]"
            ]
          },
          "metadata": {
            "tags": []
          },
          "execution_count": 229
        }
      ]
    },
    {
      "cell_type": "code",
      "metadata": {
        "colab": {
          "base_uri": "https://localhost:8080/"
        },
        "id": "h1eWqCvx-069",
        "outputId": "026a0374-88ce-4ca8-9457-dea35f410b34"
      },
      "source": [
        "pred=model.predict(test_data)\n",
        "pred[9]"
      ],
      "execution_count": null,
      "outputs": [
        {
          "output_type": "execute_result",
          "data": {
            "text/plain": [
              "array([32.638237], dtype=float32)"
            ]
          },
          "metadata": {
            "tags": []
          },
          "execution_count": 236
        }
      ]
    },
    {
      "cell_type": "code",
      "metadata": {
        "colab": {
          "base_uri": "https://localhost:8080/"
        },
        "id": "CqqLbMYM_SDO",
        "outputId": "d9f266fc-8a89-4df3-9318-764a63e868cd"
      },
      "source": [
        "test_targets.iloc[9]"
      ],
      "execution_count": null,
      "outputs": [
        {
          "output_type": "execute_result",
          "data": {
            "text/plain": [
              "25.12"
            ]
          },
          "metadata": {
            "tags": []
          },
          "execution_count": 237
        }
      ]
    },
    {
      "cell_type": "code",
      "metadata": {
        "id": "QbYlJ4KSE2da"
      },
      "source": [
        ""
      ],
      "execution_count": null,
      "outputs": []
    }
  ]
}